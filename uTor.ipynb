{
  "nbformat": 4,
  "nbformat_minor": 0,
  "metadata": {
    "colab": {
      "name": "uTor.ipynb",
      "provenance": []
    },
    "kernelspec": {
      "name": "python3",
      "display_name": "Python 3"
    }
  },
  "cells": [
    {
      "cell_type": "markdown",
      "metadata": {
        "id": "Cqy3vXXOMI06"
      },
      "source": [
        "# ✦ *Colab Still Alive Console Script:*\n",
        "<p><font size=2px ><font color=\"red\"> Tip - Set a javascript interval to click on the connect button every 60 seconds. Open developer-settings (in your web-browser) with Ctrl+Shift+I then click on console tab and type this on the console prompt. (for mac press Option+Command+I)</font></p><b>Copy script in hidden cell and paste at your browser console !!! DO NOT CLOSE YOUR BROWSER IN ORDER TO STILL RUNNING SCRIPT</b>"
      ]
    },
    {
      "cell_type": "markdown",
      "metadata": {
        "id": "ercDPZ6CIlVz"
      },
      "source": [
        "# <img src=\"https://upload.wikimedia.org/wikipedia/commons/thumb/d/da/Google_Drive_logo.png/600px-Google_Drive_logo.png\" height=30px>      ___Mount / Unmount Gdrive!___"
      ]
    },
    {
      "cell_type": "code",
      "metadata": {
        "cellView": "form",
        "id": "U2avD1zRIlWA"
      },
      "source": [
        "#@markdown <br><center><img src='https://upload.wikimedia.org/wikipedia/commons/thumb/d/da/Google_Drive_logo.png/600px-Google_Drive_logo.png' height=\"50\" alt=\"Gdrive logo\"/></center>\n",
        "#@markdown <center><h3>Mount Gdrive to /content/drive</h3></center><br>\n",
        "MODE = \"MOUNT\" #@param [\"MOUNT\", \"UNMOUNT\"]\n",
        "#Mount your Gdrive! \n",
        "from google.colab import drive\n",
        "drive.mount._DEBUG = False\n",
        "if MODE == \"MOUNT\":\n",
        "  drive.mount('/content/drive', force_remount=True)\n",
        "elif MODE == \"UNMOUNT\":\n",
        "  try:\n",
        "    drive.flush_and_unmount()\n",
        "  except ValueError:\n",
        "    pass\n",
        "  get_ipython().system_raw(\"rm -rf /root/.config/Google/DriveFS\")"
      ],
      "execution_count": null,
      "outputs": []
    },
    {
      "cell_type": "code",
      "metadata": {
        "id": "IsQPA4qZD4hK",
        "cellView": "form"
      },
      "source": [
        "#@markdown <h4><b>←</b> ឵឵Click Here to <b>Force Remount</b> your Google Drive</h4>\n",
        "#@markdown <h5><i>(Only use if needed)</i></h5>\n",
        "drive.mount(\"/content/drive\", force_remount=True)"
      ],
      "execution_count": null,
      "outputs": []
    },
    {
      "cell_type": "markdown",
      "metadata": {
        "id": "3Z8cK8h2Avbv"
      },
      "source": [
        "<code>function ClickConnect(){\n",
        "console.log(\"Working\"); \n",
        "document.querySelector(\"colab-connect-button\").click() \n",
        "}setInterval(ClickConnect,6000)</code>"
      ]
    },
    {
      "cell_type": "code",
      "metadata": {
        "id": "jtClEMAMLVHw",
        "cellView": "form"
      },
      "source": [
        "#@markdown ← This cell runs JS code to automatic reconnect to runtime.\n",
        "\n",
        "\n",
        "import IPython\n",
        "from google.colab import output\n",
        "\n",
        "display(IPython.display.Javascript('''\n",
        " function ClickConnect(){\n",
        "   btn = document.querySelector(\"colab-connect-button\")\n",
        "   if (btn != null){\n",
        "     console.log(\"Click colab-connect-button\"); \n",
        "     btn.click() \n",
        "     }\n",
        "   \n",
        "   btn = document.getElementById('ok')\n",
        "   if (btn != null){\n",
        "     console.log(\"Click reconnect\"); \n",
        "     btn.click() \n",
        "     }\n",
        "  }\n",
        "  \n",
        "setInterval(ClickConnect,60000)\n",
        "'''))\n",
        "\n",
        "print(\"Done.\")"
      ],
      "execution_count": null,
      "outputs": []
    },
    {
      "cell_type": "markdown",
      "metadata": {
        "id": "JXsqLabj3uhU"
      },
      "source": [
        "## <img src='https://upload.wikimedia.org/wikipedia/commons/9/9f/UTorrent_%28logo%29.png' height=\"25\" alt=\"µTorrent\" /> ___µTorrent___"
      ]
    },
    {
      "cell_type": "code",
      "metadata": {
        "cellView": "form",
        "id": "eKiKa0uz3uhX"
      },
      "source": [
        "#@markdown <h3>⬅️ Click Here to START server</h3>\n",
        "#@markdown <br><center><img src='https://upload.wikimedia.org/wikipedia/commons/9/9f/UTorrent_%28logo%29.png' height=\"200\" alt=\"µTorrent\"/></center>\n",
        "#@markdown <center><h3>µTorrent<br />uTorrent is a proprietary adware BitTorrent client owned and developed by BitTorrent, Inc.</h3></center><br>\n",
        "import os, pathlib, zipfile, re\n",
        "import urllib.request\n",
        "from IPython.display import HTML, clear_output\n",
        "\n",
        "Version = '1.3.0'\n",
        "\n",
        "#####################################\n",
        "USE_FREE_TOKEN = True  # @param {type:\"boolean\"}\n",
        "\n",
        "TOKEN = \"\"  # @param {type:\"string\"}\n",
        "# OUTPUT_DIR = \"\"  # @param {type:\"string\"}\n",
        "HOME = os.path.expanduser(\"~\")\n",
        "r = get_ipython()\n",
        "if not os.path.exists(f\"{HOME}/.ipython/ttmg.py\"):\n",
        "    hCode = \"https://raw.githubusercontent.com/totalleecher/\" \\\n",
        "                \"Google-Colab-CloudTorrent/master/res/ttmg.py\"\n",
        "    urllib.request.urlretrieve(hCode, f\"{HOME}/.ipython/ttmg.py\")\n",
        "\n",
        "\n",
        "from ttmg import (\n",
        "    updateCheck,\n",
        "    runSh,\n",
        "    loadingAn,\n",
        "    PortForward_wrapper,\n",
        "    findProcess,\n",
        "    displayUrl\n",
        ")\n",
        "\n",
        "#if updateCheck(\"Checking updates ...\", Version):  # VERSION CHECKING ...\n",
        "#    !kill -9 -1 &\n",
        "#clear_output()\n",
        "loadingAn()\n",
        "\n",
        "#uTorrent installing...\n",
        "if not os.path.exists(\"/usr/bin/utserver\"):\n",
        "  os.makedirs(\"downloads\", exist_ok=True)\n",
        "  r.system_raw(\"apt install libssl1.0.0 libssl-dev\")\n",
        "  r.system_raw(r\"wget http://download-new.utorrent.com/endpoint/utserver/os/linux-x64-ubuntu-13-04/track/beta/ -O utserver.tar.gz\")\n",
        "  r.system_raw(r\"tar -zxvf utserver.tar.gz -C /opt/\")\n",
        "  r.system_raw(\"rm -f utserver.tar.gz\")\n",
        "  r.system_raw(\"mv /opt/utorrent-server-* /opt/utorrent\")\n",
        "  os.chmod(\"/opt/utorrent\", 0o777)\n",
        "  r.system_raw(\"ln -s /opt/utorrent/utserver /usr/bin/utserver\")\n",
        "  urllib.request.urlretrieve(\n",
        "      \"https://raw.githubusercontent.com/totalleecher/Google-Colab-CloudTorrent/master/res/utorrent/utserver.conf\",\n",
        "      \"/opt/utorrent/utserver.conf\")\n",
        "if not findProcess(\"utserver\", \"-settingspath\"):\n",
        "  cmd = \"utserver -settingspath /opt/utorrent/\" \\\n",
        "        \" -configfile /opt/utorrent/utserver.conf\" \\\n",
        "        \" -daemon\"\n",
        "  runSh(cmd, shell=True)\n",
        "\n",
        "# START_SERVER\n",
        "# Ngrok region 'us','eu','ap','au','sa','jp','in'\n",
        "clear_output()\n",
        "PORT_FORWARD = \"ngrok\" #@param [\"ngrok\", \"localhost\"]\n",
        "Server = PortForward_wrapper(\n",
        "    PORT_FORWARD, TOKEN, USE_FREE_TOKEN, [['deluge', 8112, 'http'],\n",
        "                            ['utorrent', 5454, 'http']], 'eu', \n",
        "    [f\"{HOME}/.ngrok2/delugeUtorrent.yml\", 4042]\n",
        ").start('utorrent', displayB=False)\n",
        "displayUrl(Server, pNamU='uTorrent : ', \n",
        "           ExUrl=fr\"http://admin:admin@{Server['url'][7:]}/gui\",\n",
        "           btc=\"g\")\n",
        "\n"
      ],
      "execution_count": null,
      "outputs": []
    },
    {
      "cell_type": "markdown",
      "metadata": {
        "id": "SZBgJu8E-W7M"
      },
      "source": [
        "# <img src=\"https://upload.wikimedia.org/wikipedia/commons/thumb/d/da/Google_Drive_logo.png/600px-Google_Drive_logo.png\" height=30px> ___*Google SDK*___<p>Directly downloaded to your <b>Gdirve</b>. No need to worry about Notebook's space (Alpha Ver.)</p>\n"
      ]
    },
    {
      "cell_type": "code",
      "metadata": {
        "id": "IVHR7j91hzdC",
        "cellView": "form"
      },
      "source": [
        "#@markdown <h3>←  Getting your google account information (JSON)</h3>\n",
        "View_info = True #@param {type:\"boolean\"}\n",
        "import os\n",
        "from IPython.display import HTML, clear_output\n",
        "from pydrive.auth import GoogleAuth\n",
        "from pydrive.drive import GoogleDrive\n",
        "from google.colab import auth\n",
        "from oauth2client.client import GoogleCredentials\n",
        "!pip install PyDrive\n",
        "auth.authenticate_user()\n",
        "gauth = GoogleAuth()\n",
        "gauth.credentials = GoogleCredentials.get_application_default()\n",
        "drive = GoogleDrive(gauth)\n",
        "clear_output()\n",
        "#============================\n",
        "f = open('adc.json', 'r')\n",
        "sdk = f.read()\n",
        "f.close\n",
        "if View_info:\n",
        " print(sdk)"
      ],
      "execution_count": null,
      "outputs": []
    },
    {
      "cell_type": "code",
      "metadata": {
        "id": "C6MUykpFnfvO",
        "cellView": "form"
      },
      "source": [
        "#@markdown <h3>←   Click Here to Mount Google SDK</h3><p>\n",
        "\n",
        "\n",
        "#@markdown - Only works with <img src='https://colab.research.google.com/img/colab_favicon_256px.png' height=\"30\" alt=\"colab\" /> Torrent to Google drive <img src='https://colab.research.google.com/img/colab_favicon_256px.png' height=\"30\" alt=\"colab\" />  \n",
        "#Upload_my_JSON = True #@param {type:\"boolean\"}\n",
        "#Direct_url_to_my_JSON = \"https://raw.githubusercontent.com/totalleecher/codemaster-mm/master/adb.json\" #@param {type:\"string\"}\n",
        "#if Upload_my_JSON:\n",
        "# !wget \"$Direct_url_to_my_JSON\"\n",
        "#!apt-get install -y -qq software-properties-common python-software-properties module-init-tools\n",
        "!add-apt-repository -y ppa:alessandro-strada/ppa 2>&1 > /dev/null\n",
        "!apt-get update -qq 2>&1 > /dev/null\n",
        "!apt-get -y install -qq google-drive-ocamlfuse fuse\n",
        "from google.colab import auth\n",
        "auth.authenticate_user()\n",
        "from oauth2client.client import GoogleCredentials\n",
        "creds = GoogleCredentials.get_application_default()\n",
        "import getpass\n",
        "!google-drive-ocamlfuse -headless -id={creds.client_id} -secret={creds.client_secret} < /dev/null 2>&1 | grep URL\n",
        "vcode = getpass.getpass()\n",
        "!echo {vcode} | google-drive-ocamlfuse -headless -id={creds.client_id} -secret={creds.client_secret}\n",
        "\n",
        "##\n",
        "!mkdir -p downloads\n",
        "!google-drive-ocamlfuse drive downloads\n",
        "\n",
        "from IPython.display import HTML, clear_output\n",
        "\n",
        "clear_output()\n",
        "\n",
        "print(\"Installed Successfully\")"
      ],
      "execution_count": null,
      "outputs": []
    }
  ]
}
